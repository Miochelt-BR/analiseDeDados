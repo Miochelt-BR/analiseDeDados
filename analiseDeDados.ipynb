{
 "cells": [
  {
   "cell_type": "markdown",
   "metadata": {},
   "source": [
    "1.0.0 como fazer as importações e a conexão:\n",
    "\n"
   ]
  },
  {
   "cell_type": "code",
   "execution_count": 12,
   "metadata": {},
   "outputs": [],
   "source": [
    "from sqlite3.dbapi2 import connect\n",
    "# abrir  o banco de dados\n",
    "# importando a biblioteca sql3 e utilizando o as para fornecer um apelido\n",
    "import sqlite3\n",
    " #importando a biblioteca pandas  e utilizando o as para fornecer um apelido\n",
    "\n",
    "import pandas as pd\n",
    "conn = sqlite3.connect(\"database.db\")"
   ]
  },
  {
   "cell_type": "markdown",
   "metadata": {},
   "source": [
    "1- Exercício\n"
   ]
  },
  {
   "cell_type": "code",
   "execution_count": 13,
   "metadata": {},
   "outputs": [
    {
     "data": {
      "text/html": [
       "<div>\n",
       "<style scoped>\n",
       "    .dataframe tbody tr th:only-of-type {\n",
       "        vertical-align: middle;\n",
       "    }\n",
       "\n",
       "    .dataframe tbody tr th {\n",
       "        vertical-align: top;\n",
       "    }\n",
       "\n",
       "    .dataframe thead th {\n",
       "        text-align: right;\n",
       "    }\n",
       "</style>\n",
       "<table border=\"1\" class=\"dataframe\">\n",
       "  <thead>\n",
       "    <tr style=\"text-align: right;\">\n",
       "      <th></th>\n",
       "      <th>loyalty_number</th>\n",
       "      <th>year</th>\n",
       "      <th>month</th>\n",
       "      <th>flights_booked</th>\n",
       "      <th>flights_with_companions</th>\n",
       "      <th>total_flights</th>\n",
       "      <th>distance</th>\n",
       "      <th>points_accumulated</th>\n",
       "      <th>points_redeemed</th>\n",
       "      <th>dollar_cost_points_redeemed</th>\n",
       "      <th>...</th>\n",
       "      <th>education</th>\n",
       "      <th>salary</th>\n",
       "      <th>marital_status</th>\n",
       "      <th>loyalty_card</th>\n",
       "      <th>clv</th>\n",
       "      <th>enrollment_type</th>\n",
       "      <th>enrollment_year</th>\n",
       "      <th>enrollment_month</th>\n",
       "      <th>cancellation_year</th>\n",
       "      <th>cancellation_month</th>\n",
       "    </tr>\n",
       "  </thead>\n",
       "  <tbody>\n",
       "    <tr>\n",
       "      <th>0</th>\n",
       "      <td>100018</td>\n",
       "      <td>2017</td>\n",
       "      <td>1</td>\n",
       "      <td>3</td>\n",
       "      <td>0</td>\n",
       "      <td>3</td>\n",
       "      <td>1521</td>\n",
       "      <td>152.0</td>\n",
       "      <td>0</td>\n",
       "      <td>0</td>\n",
       "      <td>...</td>\n",
       "      <td>Bachelor</td>\n",
       "      <td>92552.0</td>\n",
       "      <td>Married</td>\n",
       "      <td>Aurora</td>\n",
       "      <td>7919.20</td>\n",
       "      <td>Standard</td>\n",
       "      <td>2016</td>\n",
       "      <td>8</td>\n",
       "      <td>NaN</td>\n",
       "      <td>NaN</td>\n",
       "    </tr>\n",
       "    <tr>\n",
       "      <th>1</th>\n",
       "      <td>100102</td>\n",
       "      <td>2017</td>\n",
       "      <td>1</td>\n",
       "      <td>10</td>\n",
       "      <td>4</td>\n",
       "      <td>14</td>\n",
       "      <td>2030</td>\n",
       "      <td>203.0</td>\n",
       "      <td>0</td>\n",
       "      <td>0</td>\n",
       "      <td>...</td>\n",
       "      <td>College</td>\n",
       "      <td>NaN</td>\n",
       "      <td>Single</td>\n",
       "      <td>Nova</td>\n",
       "      <td>2887.74</td>\n",
       "      <td>Standard</td>\n",
       "      <td>2013</td>\n",
       "      <td>3</td>\n",
       "      <td>NaN</td>\n",
       "      <td>NaN</td>\n",
       "    </tr>\n",
       "    <tr>\n",
       "      <th>2</th>\n",
       "      <td>100140</td>\n",
       "      <td>2017</td>\n",
       "      <td>1</td>\n",
       "      <td>6</td>\n",
       "      <td>0</td>\n",
       "      <td>6</td>\n",
       "      <td>1200</td>\n",
       "      <td>120.0</td>\n",
       "      <td>0</td>\n",
       "      <td>0</td>\n",
       "      <td>...</td>\n",
       "      <td>College</td>\n",
       "      <td>NaN</td>\n",
       "      <td>Divorced</td>\n",
       "      <td>Nova</td>\n",
       "      <td>2838.07</td>\n",
       "      <td>Standard</td>\n",
       "      <td>2016</td>\n",
       "      <td>7</td>\n",
       "      <td>NaN</td>\n",
       "      <td>NaN</td>\n",
       "    </tr>\n",
       "    <tr>\n",
       "      <th>3</th>\n",
       "      <td>100214</td>\n",
       "      <td>2017</td>\n",
       "      <td>1</td>\n",
       "      <td>0</td>\n",
       "      <td>0</td>\n",
       "      <td>0</td>\n",
       "      <td>0</td>\n",
       "      <td>0.0</td>\n",
       "      <td>0</td>\n",
       "      <td>0</td>\n",
       "      <td>...</td>\n",
       "      <td>Bachelor</td>\n",
       "      <td>63253.0</td>\n",
       "      <td>Married</td>\n",
       "      <td>Star</td>\n",
       "      <td>4170.57</td>\n",
       "      <td>Standard</td>\n",
       "      <td>2015</td>\n",
       "      <td>8</td>\n",
       "      <td>NaN</td>\n",
       "      <td>NaN</td>\n",
       "    </tr>\n",
       "    <tr>\n",
       "      <th>4</th>\n",
       "      <td>100272</td>\n",
       "      <td>2017</td>\n",
       "      <td>1</td>\n",
       "      <td>0</td>\n",
       "      <td>0</td>\n",
       "      <td>0</td>\n",
       "      <td>0</td>\n",
       "      <td>0.0</td>\n",
       "      <td>0</td>\n",
       "      <td>0</td>\n",
       "      <td>...</td>\n",
       "      <td>Bachelor</td>\n",
       "      <td>91163.0</td>\n",
       "      <td>Divorced</td>\n",
       "      <td>Star</td>\n",
       "      <td>6622.05</td>\n",
       "      <td>Standard</td>\n",
       "      <td>2014</td>\n",
       "      <td>1</td>\n",
       "      <td>NaN</td>\n",
       "      <td>NaN</td>\n",
       "    </tr>\n",
       "  </tbody>\n",
       "</table>\n",
       "<p>5 rows × 26 columns</p>\n",
       "</div>"
      ],
      "text/plain": [
       "   loyalty_number  year  month  flights_booked  flights_with_companions  \\\n",
       "0          100018  2017      1               3                        0   \n",
       "1          100102  2017      1              10                        4   \n",
       "2          100140  2017      1               6                        0   \n",
       "3          100214  2017      1               0                        0   \n",
       "4          100272  2017      1               0                        0   \n",
       "\n",
       "   total_flights  distance  points_accumulated  points_redeemed  \\\n",
       "0              3      1521               152.0                0   \n",
       "1             14      2030               203.0                0   \n",
       "2              6      1200               120.0                0   \n",
       "3              0         0                 0.0                0   \n",
       "4              0         0                 0.0                0   \n",
       "\n",
       "   dollar_cost_points_redeemed  ...  education   salary marital_status  \\\n",
       "0                            0  ...   Bachelor  92552.0        Married   \n",
       "1                            0  ...    College      NaN         Single   \n",
       "2                            0  ...    College      NaN       Divorced   \n",
       "3                            0  ...   Bachelor  63253.0        Married   \n",
       "4                            0  ...   Bachelor  91163.0       Divorced   \n",
       "\n",
       "  loyalty_card      clv enrollment_type enrollment_year  enrollment_month  \\\n",
       "0       Aurora  7919.20        Standard            2016                 8   \n",
       "1         Nova  2887.74        Standard            2013                 3   \n",
       "2         Nova  2838.07        Standard            2016                 7   \n",
       "3         Star  4170.57        Standard            2015                 8   \n",
       "4         Star  6622.05        Standard            2014                 1   \n",
       "\n",
       "  cancellation_year cancellation_month  \n",
       "0               NaN                NaN  \n",
       "1               NaN                NaN  \n",
       "2               NaN                NaN  \n",
       "3               NaN                NaN  \n",
       "4               NaN                NaN  \n",
       "\n",
       "[5 rows x 26 columns]"
      ]
     },
     "execution_count": 13,
     "metadata": {},
     "output_type": "execute_result"
    }
   ],
   "source": [
    "# exercicio 1\n",
    "# ligacao entre tabelas\n",
    "consulta_atividade=\"\"\"\n",
    "\n",
    "  SELECT\n",
    "    *\n",
    "  FROM flight_activity fa LEFT JOIN flight_loyalty_history flh ON (fa.loyalty_number= flh. loyalty_number)\n",
    "\n",
    "\n",
    "\n",
    "\n",
    "\n",
    "\"\"\"\n",
    "\n",
    "# utilizando pandas para buscar e trazer a  consulta dentro do banco de dados utilizando sql misturando os dois DF quer dizer que é uma variavel tipo pandas\n",
    "df_atividade = pd.read_sql_query(consulta_atividade, conn)\n",
    "#aqui comando no pandas para trazer as 5 primeiras linhas\n",
    "df_atividade.head()\n"
   ]
  },
  {
   "cell_type": "markdown",
   "metadata": {},
   "source": [
    "2 busca e unifucando as tabelas: \n"
   ]
  },
  {
   "cell_type": "code",
   "execution_count": 12,
   "metadata": {},
   "outputs": [
    {
     "data": {
      "text/html": [
       "<div>\n",
       "<style scoped>\n",
       "    .dataframe tbody tr th:only-of-type {\n",
       "        vertical-align: middle;\n",
       "    }\n",
       "\n",
       "    .dataframe tbody tr th {\n",
       "        vertical-align: top;\n",
       "    }\n",
       "\n",
       "    .dataframe thead th {\n",
       "        text-align: right;\n",
       "    }\n",
       "</style>\n",
       "<table border=\"1\" class=\"dataframe\">\n",
       "  <thead>\n",
       "    <tr style=\"text-align: right;\">\n",
       "      <th></th>\n",
       "      <th>loyalty_number</th>\n",
       "      <th>country</th>\n",
       "      <th>province</th>\n",
       "      <th>city</th>\n",
       "      <th>postal_code</th>\n",
       "      <th>gender</th>\n",
       "      <th>education</th>\n",
       "      <th>salary</th>\n",
       "      <th>marital_status</th>\n",
       "      <th>loyalty_card</th>\n",
       "      <th>clv</th>\n",
       "      <th>enrollment_type</th>\n",
       "      <th>enrollment_year</th>\n",
       "      <th>enrollment_month</th>\n",
       "      <th>cancellation_year</th>\n",
       "      <th>cancellation_month</th>\n",
       "    </tr>\n",
       "  </thead>\n",
       "  <tbody>\n",
       "    <tr>\n",
       "      <th>0</th>\n",
       "      <td>480934</td>\n",
       "      <td>Canada</td>\n",
       "      <td>Ontario</td>\n",
       "      <td>Toronto</td>\n",
       "      <td>M2Z 4K1</td>\n",
       "      <td>Female</td>\n",
       "      <td>Bachelor</td>\n",
       "      <td>83236.0</td>\n",
       "      <td>Married</td>\n",
       "      <td>Star</td>\n",
       "      <td>3839.14</td>\n",
       "      <td>Standard</td>\n",
       "      <td>2016</td>\n",
       "      <td>2</td>\n",
       "      <td>NaN</td>\n",
       "      <td>NaN</td>\n",
       "    </tr>\n",
       "    <tr>\n",
       "      <th>1</th>\n",
       "      <td>549612</td>\n",
       "      <td>Canada</td>\n",
       "      <td>Alberta</td>\n",
       "      <td>Edmonton</td>\n",
       "      <td>T3G 6Y6</td>\n",
       "      <td>Male</td>\n",
       "      <td>College</td>\n",
       "      <td>NaN</td>\n",
       "      <td>Divorced</td>\n",
       "      <td>Star</td>\n",
       "      <td>3839.61</td>\n",
       "      <td>Standard</td>\n",
       "      <td>2016</td>\n",
       "      <td>3</td>\n",
       "      <td>NaN</td>\n",
       "      <td>NaN</td>\n",
       "    </tr>\n",
       "    <tr>\n",
       "      <th>2</th>\n",
       "      <td>429460</td>\n",
       "      <td>Canada</td>\n",
       "      <td>British Columbia</td>\n",
       "      <td>Vancouver</td>\n",
       "      <td>V6E 3D9</td>\n",
       "      <td>Male</td>\n",
       "      <td>College</td>\n",
       "      <td>NaN</td>\n",
       "      <td>Single</td>\n",
       "      <td>Star</td>\n",
       "      <td>3839.75</td>\n",
       "      <td>Standard</td>\n",
       "      <td>2014</td>\n",
       "      <td>7</td>\n",
       "      <td>2018.0</td>\n",
       "      <td>1.0</td>\n",
       "    </tr>\n",
       "    <tr>\n",
       "      <th>3</th>\n",
       "      <td>608370</td>\n",
       "      <td>Canada</td>\n",
       "      <td>Ontario</td>\n",
       "      <td>Toronto</td>\n",
       "      <td>P1W 1K4</td>\n",
       "      <td>Male</td>\n",
       "      <td>College</td>\n",
       "      <td>NaN</td>\n",
       "      <td>Single</td>\n",
       "      <td>Star</td>\n",
       "      <td>3839.75</td>\n",
       "      <td>Standard</td>\n",
       "      <td>2013</td>\n",
       "      <td>2</td>\n",
       "      <td>NaN</td>\n",
       "      <td>NaN</td>\n",
       "    </tr>\n",
       "    <tr>\n",
       "      <th>4</th>\n",
       "      <td>530508</td>\n",
       "      <td>Canada</td>\n",
       "      <td>Quebec</td>\n",
       "      <td>Hull</td>\n",
       "      <td>J8Y 3Z5</td>\n",
       "      <td>Male</td>\n",
       "      <td>Bachelor</td>\n",
       "      <td>103495.0</td>\n",
       "      <td>Married</td>\n",
       "      <td>Star</td>\n",
       "      <td>3842.79</td>\n",
       "      <td>Standard</td>\n",
       "      <td>2014</td>\n",
       "      <td>10</td>\n",
       "      <td>NaN</td>\n",
       "      <td>NaN</td>\n",
       "    </tr>\n",
       "  </tbody>\n",
       "</table>\n",
       "</div>"
      ],
      "text/plain": [
       "   loyalty_number country          province       city postal_code  gender  \\\n",
       "0          480934  Canada           Ontario    Toronto     M2Z 4K1  Female   \n",
       "1          549612  Canada           Alberta   Edmonton     T3G 6Y6    Male   \n",
       "2          429460  Canada  British Columbia  Vancouver     V6E 3D9    Male   \n",
       "3          608370  Canada           Ontario    Toronto     P1W 1K4    Male   \n",
       "4          530508  Canada            Quebec       Hull     J8Y 3Z5    Male   \n",
       "\n",
       "  education    salary marital_status loyalty_card      clv enrollment_type  \\\n",
       "0  Bachelor   83236.0        Married         Star  3839.14        Standard   \n",
       "1   College       NaN       Divorced         Star  3839.61        Standard   \n",
       "2   College       NaN         Single         Star  3839.75        Standard   \n",
       "3   College       NaN         Single         Star  3839.75        Standard   \n",
       "4  Bachelor  103495.0        Married         Star  3842.79        Standard   \n",
       "\n",
       "   enrollment_year  enrollment_month  cancellation_year  cancellation_month  \n",
       "0             2016                 2                NaN                 NaN  \n",
       "1             2016                 3                NaN                 NaN  \n",
       "2             2014                 7             2018.0                 1.0  \n",
       "3             2013                 2                NaN                 NaN  \n",
       "4             2014                10                NaN                 NaN  "
      ]
     },
     "execution_count": 12,
     "metadata": {},
     "output_type": "execute_result"
    }
   ],
   "source": [
    "#ecercicio 2\n",
    "consulta_atividade=\"\"\"\n",
    "  SELECT\n",
    "    *\n",
    "  FROM flight_loyalty_history\n",
    "\n",
    "\n",
    "\n",
    "\n",
    "\n",
    "\"\"\"\n",
    "\n",
    "\n",
    "df_atividade = pd.read_sql_query(consulta_atividade, conn)\n",
    "df_atividade.head()\n"
   ]
  },
  {
   "cell_type": "code",
   "execution_count": 13,
   "metadata": {},
   "outputs": [
    {
     "data": {
      "text/html": [
       "<div>\n",
       "<style scoped>\n",
       "    .dataframe tbody tr th:only-of-type {\n",
       "        vertical-align: middle;\n",
       "    }\n",
       "\n",
       "    .dataframe tbody tr th {\n",
       "        vertical-align: top;\n",
       "    }\n",
       "\n",
       "    .dataframe thead th {\n",
       "        text-align: right;\n",
       "    }\n",
       "</style>\n",
       "<table border=\"1\" class=\"dataframe\">\n",
       "  <thead>\n",
       "    <tr style=\"text-align: right;\">\n",
       "      <th></th>\n",
       "      <th>loyalty_number</th>\n",
       "      <th>year</th>\n",
       "      <th>month</th>\n",
       "      <th>flights_booked</th>\n",
       "      <th>total_flights</th>\n",
       "      <th>distance</th>\n",
       "      <th>points_accumulated</th>\n",
       "    </tr>\n",
       "  </thead>\n",
       "  <tbody>\n",
       "    <tr>\n",
       "      <th>0</th>\n",
       "      <td>100018</td>\n",
       "      <td>2017</td>\n",
       "      <td>1</td>\n",
       "      <td>3</td>\n",
       "      <td>3</td>\n",
       "      <td>1521</td>\n",
       "      <td>152.0</td>\n",
       "    </tr>\n",
       "    <tr>\n",
       "      <th>1</th>\n",
       "      <td>100102</td>\n",
       "      <td>2017</td>\n",
       "      <td>1</td>\n",
       "      <td>10</td>\n",
       "      <td>14</td>\n",
       "      <td>2030</td>\n",
       "      <td>203.0</td>\n",
       "    </tr>\n",
       "    <tr>\n",
       "      <th>2</th>\n",
       "      <td>100140</td>\n",
       "      <td>2017</td>\n",
       "      <td>1</td>\n",
       "      <td>6</td>\n",
       "      <td>6</td>\n",
       "      <td>1200</td>\n",
       "      <td>120.0</td>\n",
       "    </tr>\n",
       "    <tr>\n",
       "      <th>3</th>\n",
       "      <td>100214</td>\n",
       "      <td>2017</td>\n",
       "      <td>1</td>\n",
       "      <td>0</td>\n",
       "      <td>0</td>\n",
       "      <td>0</td>\n",
       "      <td>0.0</td>\n",
       "    </tr>\n",
       "    <tr>\n",
       "      <th>4</th>\n",
       "      <td>100272</td>\n",
       "      <td>2017</td>\n",
       "      <td>1</td>\n",
       "      <td>0</td>\n",
       "      <td>0</td>\n",
       "      <td>0</td>\n",
       "      <td>0.0</td>\n",
       "    </tr>\n",
       "  </tbody>\n",
       "</table>\n",
       "</div>"
      ],
      "text/plain": [
       "   loyalty_number  year  month  flights_booked  total_flights  distance  \\\n",
       "0          100018  2017      1               3              3      1521   \n",
       "1          100102  2017      1              10             14      2030   \n",
       "2          100140  2017      1               6              6      1200   \n",
       "3          100214  2017      1               0              0         0   \n",
       "4          100272  2017      1               0              0         0   \n",
       "\n",
       "   points_accumulated  \n",
       "0               152.0  \n",
       "1               203.0  \n",
       "2               120.0  \n",
       "3                 0.0  \n",
       "4                 0.0  "
      ]
     },
     "execution_count": 13,
     "metadata": {},
     "output_type": "execute_result"
    }
   ],
   "source": [
    " #exercicio 3\n",
    "consulta_atividade=\"\"\"\n",
    "  SELECT\n",
    "  fa.loyalty_number,\n",
    "    fa.year,\n",
    "    fa.month,\n",
    "    fa.flights_booked,\n",
    "    fa.total_flights,\n",
    "    fa.distance,\n",
    "    fa.points_accumulated\n",
    "\n",
    "  FROM\n",
    "  flight_activity fa\n",
    "\n",
    "  \"\"\"\n",
    "df_atividade = pd.read_sql_query(consulta_atividade, conn)\n",
    "df_atividade.head()"
   ]
  },
  {
   "cell_type": "code",
   "execution_count": 12,
   "metadata": {},
   "outputs": [
    {
     "data": {
      "text/html": [
       "<div>\n",
       "<style scoped>\n",
       "    .dataframe tbody tr th:only-of-type {\n",
       "        vertical-align: middle;\n",
       "    }\n",
       "\n",
       "    .dataframe tbody tr th {\n",
       "        vertical-align: top;\n",
       "    }\n",
       "\n",
       "    .dataframe thead th {\n",
       "        text-align: right;\n",
       "    }\n",
       "</style>\n",
       "<table border=\"1\" class=\"dataframe\">\n",
       "  <thead>\n",
       "    <tr style=\"text-align: right;\">\n",
       "      <th></th>\n",
       "      <th>loyalty_number</th>\n",
       "      <th>year</th>\n",
       "      <th>month</th>\n",
       "      <th>flights_booked</th>\n",
       "      <th>total_flights</th>\n",
       "      <th>distance</th>\n",
       "      <th>points_accumulated</th>\n",
       "    </tr>\n",
       "  </thead>\n",
       "  <tbody>\n",
       "    <tr>\n",
       "      <th>0</th>\n",
       "      <td>863070</td>\n",
       "      <td>2017</td>\n",
       "      <td>9</td>\n",
       "      <td>8</td>\n",
       "      <td>15</td>\n",
       "      <td>4245</td>\n",
       "      <td>424.0</td>\n",
       "    </tr>\n",
       "    <tr>\n",
       "      <th>1</th>\n",
       "      <td>691626</td>\n",
       "      <td>2018</td>\n",
       "      <td>9</td>\n",
       "      <td>8</td>\n",
       "      <td>15</td>\n",
       "      <td>4245</td>\n",
       "      <td>424.0</td>\n",
       "    </tr>\n",
       "    <tr>\n",
       "      <th>2</th>\n",
       "      <td>444931</td>\n",
       "      <td>2017</td>\n",
       "      <td>9</td>\n",
       "      <td>11</td>\n",
       "      <td>18</td>\n",
       "      <td>4428</td>\n",
       "      <td>442.0</td>\n",
       "    </tr>\n",
       "    <tr>\n",
       "      <th>3</th>\n",
       "      <td>409051</td>\n",
       "      <td>2018</td>\n",
       "      <td>9</td>\n",
       "      <td>11</td>\n",
       "      <td>18</td>\n",
       "      <td>4428</td>\n",
       "      <td>442.0</td>\n",
       "    </tr>\n",
       "    <tr>\n",
       "      <th>4</th>\n",
       "      <td>975387</td>\n",
       "      <td>2018</td>\n",
       "      <td>9</td>\n",
       "      <td>13</td>\n",
       "      <td>18</td>\n",
       "      <td>4428</td>\n",
       "      <td>442.0</td>\n",
       "    </tr>\n",
       "  </tbody>\n",
       "</table>\n",
       "</div>"
      ],
      "text/plain": [
       "   loyalty_number  year  month  flights_booked  total_flights  distance  \\\n",
       "0          863070  2017      9               8             15      4245   \n",
       "1          691626  2018      9               8             15      4245   \n",
       "2          444931  2017      9              11             18      4428   \n",
       "3          409051  2018      9              11             18      4428   \n",
       "4          975387  2018      9              13             18      4428   \n",
       "\n",
       "   points_accumulated  \n",
       "0               424.0  \n",
       "1               424.0  \n",
       "2               442.0  \n",
       "3               442.0  \n",
       "4               442.0  "
      ]
     },
     "execution_count": 12,
     "metadata": {},
     "output_type": "execute_result"
    }
   ],
   "source": [
    "#wxercicio 4\n",
    "consulta_atividade=\"\"\"\n",
    "  SELECT\n",
    "  fa.loyalty_number,\n",
    "    fa.year,\n",
    "    fa.month,\n",
    "    fa.flights_booked,\n",
    "    fa.total_flights,\n",
    "    fa.distance,\n",
    "    fa.points_accumulated\n",
    "\n",
    "  FROM\n",
    "  flight_activity fa\n",
    "\n",
    "  WHERE\n",
    "  fa.distance>2000 AND fa.month=9\n",
    "\n",
    "\n",
    "\n",
    "\n",
    "\n",
    "\n",
    "\n",
    "\n",
    "  \"\"\"\n",
    "df_atividade = pd.read_sql_query(consulta_atividade, conn)\n",
    "df_atividade.head()"
   ]
  },
  {
   "cell_type": "markdown",
   "metadata": {},
   "source": [
    "3.0 INSPECIONANDO OS DADOS\n",
    " "
   ]
  },
  {
   "cell_type": "code",
   "execution_count": 14,
   "metadata": {},
   "outputs": [
    {
     "data": {
      "text/plain": [
       "pandas.core.frame.DataFrame"
      ]
     },
     "execution_count": 14,
     "metadata": {},
     "output_type": "execute_result"
    }
   ],
   "source": [
    "type (df_atividade)"
   ]
  },
  {
   "cell_type": "markdown",
   "metadata": {},
   "source": [
    "# como pegar numero de linhas datafreme"
   ]
  },
  {
   "cell_type": "code",
   "execution_count": 4,
   "metadata": {},
   "outputs": [
    {
     "data": {
      "text/plain": [
       "405624"
      ]
     },
     "execution_count": 4,
     "metadata": {},
     "output_type": "execute_result"
    }
   ],
   "source": [
    "df_atividade.shape[0]"
   ]
  },
  {
   "cell_type": "markdown",
   "metadata": {},
   "source": [
    "# numeros de colunas de um dataframe "
   ]
  },
  {
   "cell_type": "code",
   "execution_count": 5,
   "metadata": {},
   "outputs": [
    {
     "data": {
      "text/plain": [
       "26"
      ]
     },
     "execution_count": 5,
     "metadata": {},
     "output_type": "execute_result"
    }
   ],
   "source": [
    "df_atividade.shape[1]"
   ]
  },
  {
   "cell_type": "markdown",
   "metadata": {},
   "source": [
    "# Como trazer informações gerais de um datafreme "
   ]
  },
  {
   "cell_type": "code",
   "execution_count": 7,
   "metadata": {},
   "outputs": [
    {
     "name": "stdout",
     "output_type": "stream",
     "text": [
      "<class 'pandas.core.frame.DataFrame'>\n",
      "RangeIndex: 405624 entries, 0 to 405623\n",
      "Data columns (total 26 columns):\n",
      " #   Column                       Non-Null Count   Dtype  \n",
      "---  ------                       --------------   -----  \n",
      " 0   loyalty_number               405624 non-null  int64  \n",
      " 1   year                         405624 non-null  int64  \n",
      " 2   month                        405624 non-null  int64  \n",
      " 3   flights_booked               405624 non-null  int64  \n",
      " 4   flights_with_companions      405624 non-null  int64  \n",
      " 5   total_flights                405624 non-null  int64  \n",
      " 6   distance                     405624 non-null  int64  \n",
      " 7   points_accumulated           405624 non-null  float64\n",
      " 8   points_redeemed              405624 non-null  int64  \n",
      " 9   dollar_cost_points_redeemed  405624 non-null  int64  \n",
      " 10  loyalty_number               405624 non-null  int64  \n",
      " 11  country                      405624 non-null  object \n",
      " 12  province                     405624 non-null  object \n",
      " 13  city                         405624 non-null  object \n",
      " 14  postal_code                  405624 non-null  object \n",
      " 15  gender                       405624 non-null  object \n",
      " 16  education                    405624 non-null  object \n",
      " 17  salary                       302952 non-null  float64\n",
      " 18  marital_status               405624 non-null  object \n",
      " 19  loyalty_card                 405624 non-null  object \n",
      " 20  clv                          405624 non-null  float64\n",
      " 21  enrollment_type              405624 non-null  object \n",
      " 22  enrollment_year              405624 non-null  int64  \n",
      " 23  enrollment_month             405624 non-null  int64  \n",
      " 24  cancellation_year            50064 non-null   float64\n",
      " 25  cancellation_month           50064 non-null   float64\n",
      "dtypes: float64(5), int64(12), object(9)\n",
      "memory usage: 80.5+ MB\n"
     ]
    }
   ],
   "source": [
    "df_atividade.info()"
   ]
  },
  {
   "cell_type": "markdown",
   "metadata": {},
   "source": [
    "# Para buscar no  DataFrame um  geral  de todas  as linhas utilizo o  comando  :, depois  o  nome da coluna que desejo efetuar a busca, para efetuar a soma    soma  é utilizado  o comando sum"
   ]
  },
  {
   "cell_type": "code",
   "execution_count": 12,
   "metadata": {},
   "outputs": [
    {
     "data": {
      "text/plain": [
       "490350765"
      ]
     },
     "execution_count": 12,
     "metadata": {},
     "output_type": "execute_result"
    }
   ],
   "source": [
    "df_atividade.loc[:,\"distance\"].sum()"
   ]
  },
  {
   "cell_type": "markdown",
   "metadata": {},
   "source": [
    "# Para buscar no  DataFrame um  geral  de todas  as linhas utilizo o  comando  :, depois  o  nome da coluna que desejo efetuar a busca, para efetuar a   media  é utilizado  o comando mean"
   ]
  },
  {
   "cell_type": "code",
   "execution_count": 14,
   "metadata": {},
   "outputs": [
    {
     "data": {
      "text/plain": [
       "1208.880058872256"
      ]
     },
     "execution_count": 14,
     "metadata": {},
     "output_type": "execute_result"
    }
   ],
   "source": [
    "df_atividade.loc[:,\"distance\"].mean()"
   ]
  },
  {
   "cell_type": "markdown",
   "metadata": {},
   "source": [
    "# Para buscar no  DataFrame um  geral  de todas  as linhas utilizo o  comando  :, depois  o  nome da coluna que desejo efetuar a busca, para trazer valores do  minimo  é utilizado  o comando min\n"
   ]
  },
  {
   "cell_type": "code",
   "execution_count": 15,
   "metadata": {},
   "outputs": [
    {
     "data": {
      "text/plain": [
       "0"
      ]
     },
     "execution_count": 15,
     "metadata": {},
     "output_type": "execute_result"
    }
   ],
   "source": [
    "df_atividade.loc[:,\"distance\"].min()"
   ]
  },
  {
   "cell_type": "markdown",
   "metadata": {},
   "source": [
    " # Para buscar no  DataFrame um  geral  de todas  as linhas utilizo o  comando  :, depois  o  nome da coluna que desejo efetuar a busca, para trazer o valor   maximo   é utilizado  o comando max"
   ]
  },
  {
   "cell_type": "code",
   "execution_count": 16,
   "metadata": {},
   "outputs": [
    {
     "data": {
      "text/plain": [
       "6293"
      ]
     },
     "execution_count": 16,
     "metadata": {},
     "output_type": "execute_result"
    }
   ],
   "source": [
    "df_atividade.loc[:,\"distance\"].max()"
   ]
  },
  {
   "cell_type": "markdown",
   "metadata": {},
   "source": [
    "# para utilizar todos os comandos no mesmo bloco é preciso gravar em variaveis depois imprimir com comando print , pois caso nao utilize desta forma ele so ira imprimir o ultimo resultado"
   ]
  },
  {
   "cell_type": "code",
   "execution_count": 19,
   "metadata": {},
   "outputs": [
    {
     "name": "stdout",
     "output_type": "stream",
     "text": [
      "os resultados sao:\n",
      " a soma é :  490350765\n",
      " a media  é :  1208.880058872256\n",
      " a minimo é :  0\n",
      " o maximo  é :  6293\n"
     ]
    }
   ],
   "source": [
    "soma = df_atividade.loc[:,\"distance\"].sum()\n",
    "media = df_atividade.loc[:,\"distance\"].mean()\n",
    "minimo = df_atividade.loc[:,\"distance\"].min()\n",
    "maximo = df_atividade.loc[:,\"distance\"].max()\n",
    "print(\"os resultados sao:\")\n",
    "print(\" a soma é : \",soma)\n",
    "print(\" a media  é : \",media)\n",
    "print(\" a minimo é : \",minimo)\n",
    "print(\" o maximo  é : \",maximo)\n",
    "\n"
   ]
  },
  {
   "cell_type": "markdown",
   "metadata": {},
   "source": [
    "# para confirmar podemos utilizar o comando para trazer as primeiras 5 linhas "
   ]
  },
  {
   "cell_type": "code",
   "execution_count": 10,
   "metadata": {},
   "outputs": [
    {
     "data": {
      "text/plain": [
       "<bound method NDFrame.head of         loyalty_number  year  month  flights_booked  flights_with_companions  \\\n",
       "0               100018  2017      1               3                        0   \n",
       "1               100102  2017      1              10                        4   \n",
       "2               100140  2017      1               6                        0   \n",
       "3               100214  2017      1               0                        0   \n",
       "4               100272  2017      1               0                        0   \n",
       "...                ...   ...    ...             ...                      ...   \n",
       "405619          999902  2018     12               0                        0   \n",
       "405620          999911  2018     12               0                        0   \n",
       "405621          999940  2018     12               3                        0   \n",
       "405622          999982  2018     12               0                        0   \n",
       "405623          999986  2018     12               0                        0   \n",
       "\n",
       "        total_flights  distance  points_accumulated  points_redeemed  \\\n",
       "0                   3      1521               152.0                0   \n",
       "1                  14      2030               203.0                0   \n",
       "2                   6      1200               120.0                0   \n",
       "3                   0         0                 0.0                0   \n",
       "4                   0         0                 0.0                0   \n",
       "...               ...       ...                 ...              ...   \n",
       "405619              0         0                 0.0                0   \n",
       "405620              0         0                 0.0                0   \n",
       "405621              3      1233               123.0                0   \n",
       "405622              0         0                 0.0                0   \n",
       "405623              0         0                 0.0                0   \n",
       "\n",
       "        dollar_cost_points_redeemed  ...  education    salary marital_status  \\\n",
       "0                                 0  ...   Bachelor   92552.0        Married   \n",
       "1                                 0  ...    College       NaN         Single   \n",
       "2                                 0  ...    College       NaN       Divorced   \n",
       "3                                 0  ...   Bachelor   63253.0        Married   \n",
       "4                                 0  ...   Bachelor   91163.0       Divorced   \n",
       "...                             ...  ...        ...       ...            ...   \n",
       "405619                            0  ...    College       NaN        Married   \n",
       "405620                            0  ...     Doctor  217943.0         Single   \n",
       "405621                            0  ...   Bachelor   47670.0        Married   \n",
       "405622                            0  ...    College       NaN        Married   \n",
       "405623                            0  ...   Bachelor   46594.0        Married   \n",
       "\n",
       "       loyalty_card       clv enrollment_type enrollment_year  \\\n",
       "0            Aurora   7919.20        Standard            2016   \n",
       "1              Nova   2887.74        Standard            2013   \n",
       "2              Nova   2838.07        Standard            2016   \n",
       "3              Star   4170.57        Standard            2015   \n",
       "4              Star   6622.05        Standard            2014   \n",
       "...             ...       ...             ...             ...   \n",
       "405619       Aurora   7290.07        Standard            2014   \n",
       "405620         Nova   8564.77        Standard            2012   \n",
       "405621         Nova  20266.50        Standard            2017   \n",
       "405622         Star   2631.56        Standard            2018   \n",
       "405623         Nova   8257.01  2018 Promotion            2018   \n",
       "\n",
       "        enrollment_month cancellation_year cancellation_month  \n",
       "0                      8               NaN                NaN  \n",
       "1                      3               NaN                NaN  \n",
       "2                      7               NaN                NaN  \n",
       "3                      8               NaN                NaN  \n",
       "4                      1               NaN                NaN  \n",
       "...                  ...               ...                ...  \n",
       "405619                 5               NaN                NaN  \n",
       "405620                 8               NaN                NaN  \n",
       "405621                 7               NaN                NaN  \n",
       "405622                 7               NaN                NaN  \n",
       "405623                 2               NaN                NaN  \n",
       "\n",
       "[405624 rows x 26 columns]>"
      ]
     },
     "execution_count": 10,
     "metadata": {},
     "output_type": "execute_result"
    }
   ],
   "source": [
    "df_atividade.head"
   ]
  },
  {
   "cell_type": "markdown",
   "metadata": {},
   "source": [
    " LIMPAR OS DADOS:"
   ]
  },
  {
   "cell_type": "markdown",
   "metadata": {},
   "source": [
    "# Para identificar se possui  linhas nulas usaremos o comando isna: sistema boolean "
   ]
  },
  {
   "cell_type": "code",
   "execution_count": 20,
   "metadata": {},
   "outputs": [
    {
     "data": {
      "text/html": [
       "<div>\n",
       "<style scoped>\n",
       "    .dataframe tbody tr th:only-of-type {\n",
       "        vertical-align: middle;\n",
       "    }\n",
       "\n",
       "    .dataframe tbody tr th {\n",
       "        vertical-align: top;\n",
       "    }\n",
       "\n",
       "    .dataframe thead th {\n",
       "        text-align: right;\n",
       "    }\n",
       "</style>\n",
       "<table border=\"1\" class=\"dataframe\">\n",
       "  <thead>\n",
       "    <tr style=\"text-align: right;\">\n",
       "      <th></th>\n",
       "      <th>loyalty_number</th>\n",
       "      <th>year</th>\n",
       "      <th>month</th>\n",
       "      <th>flights_booked</th>\n",
       "      <th>flights_with_companions</th>\n",
       "      <th>total_flights</th>\n",
       "      <th>distance</th>\n",
       "      <th>points_accumulated</th>\n",
       "      <th>points_redeemed</th>\n",
       "      <th>dollar_cost_points_redeemed</th>\n",
       "      <th>...</th>\n",
       "      <th>education</th>\n",
       "      <th>salary</th>\n",
       "      <th>marital_status</th>\n",
       "      <th>loyalty_card</th>\n",
       "      <th>clv</th>\n",
       "      <th>enrollment_type</th>\n",
       "      <th>enrollment_year</th>\n",
       "      <th>enrollment_month</th>\n",
       "      <th>cancellation_year</th>\n",
       "      <th>cancellation_month</th>\n",
       "    </tr>\n",
       "  </thead>\n",
       "  <tbody>\n",
       "    <tr>\n",
       "      <th>0</th>\n",
       "      <td>False</td>\n",
       "      <td>False</td>\n",
       "      <td>False</td>\n",
       "      <td>False</td>\n",
       "      <td>False</td>\n",
       "      <td>False</td>\n",
       "      <td>False</td>\n",
       "      <td>False</td>\n",
       "      <td>False</td>\n",
       "      <td>False</td>\n",
       "      <td>...</td>\n",
       "      <td>False</td>\n",
       "      <td>False</td>\n",
       "      <td>False</td>\n",
       "      <td>False</td>\n",
       "      <td>False</td>\n",
       "      <td>False</td>\n",
       "      <td>False</td>\n",
       "      <td>False</td>\n",
       "      <td>True</td>\n",
       "      <td>True</td>\n",
       "    </tr>\n",
       "    <tr>\n",
       "      <th>1</th>\n",
       "      <td>False</td>\n",
       "      <td>False</td>\n",
       "      <td>False</td>\n",
       "      <td>False</td>\n",
       "      <td>False</td>\n",
       "      <td>False</td>\n",
       "      <td>False</td>\n",
       "      <td>False</td>\n",
       "      <td>False</td>\n",
       "      <td>False</td>\n",
       "      <td>...</td>\n",
       "      <td>False</td>\n",
       "      <td>True</td>\n",
       "      <td>False</td>\n",
       "      <td>False</td>\n",
       "      <td>False</td>\n",
       "      <td>False</td>\n",
       "      <td>False</td>\n",
       "      <td>False</td>\n",
       "      <td>True</td>\n",
       "      <td>True</td>\n",
       "    </tr>\n",
       "    <tr>\n",
       "      <th>2</th>\n",
       "      <td>False</td>\n",
       "      <td>False</td>\n",
       "      <td>False</td>\n",
       "      <td>False</td>\n",
       "      <td>False</td>\n",
       "      <td>False</td>\n",
       "      <td>False</td>\n",
       "      <td>False</td>\n",
       "      <td>False</td>\n",
       "      <td>False</td>\n",
       "      <td>...</td>\n",
       "      <td>False</td>\n",
       "      <td>True</td>\n",
       "      <td>False</td>\n",
       "      <td>False</td>\n",
       "      <td>False</td>\n",
       "      <td>False</td>\n",
       "      <td>False</td>\n",
       "      <td>False</td>\n",
       "      <td>True</td>\n",
       "      <td>True</td>\n",
       "    </tr>\n",
       "    <tr>\n",
       "      <th>3</th>\n",
       "      <td>False</td>\n",
       "      <td>False</td>\n",
       "      <td>False</td>\n",
       "      <td>False</td>\n",
       "      <td>False</td>\n",
       "      <td>False</td>\n",
       "      <td>False</td>\n",
       "      <td>False</td>\n",
       "      <td>False</td>\n",
       "      <td>False</td>\n",
       "      <td>...</td>\n",
       "      <td>False</td>\n",
       "      <td>False</td>\n",
       "      <td>False</td>\n",
       "      <td>False</td>\n",
       "      <td>False</td>\n",
       "      <td>False</td>\n",
       "      <td>False</td>\n",
       "      <td>False</td>\n",
       "      <td>True</td>\n",
       "      <td>True</td>\n",
       "    </tr>\n",
       "    <tr>\n",
       "      <th>4</th>\n",
       "      <td>False</td>\n",
       "      <td>False</td>\n",
       "      <td>False</td>\n",
       "      <td>False</td>\n",
       "      <td>False</td>\n",
       "      <td>False</td>\n",
       "      <td>False</td>\n",
       "      <td>False</td>\n",
       "      <td>False</td>\n",
       "      <td>False</td>\n",
       "      <td>...</td>\n",
       "      <td>False</td>\n",
       "      <td>False</td>\n",
       "      <td>False</td>\n",
       "      <td>False</td>\n",
       "      <td>False</td>\n",
       "      <td>False</td>\n",
       "      <td>False</td>\n",
       "      <td>False</td>\n",
       "      <td>True</td>\n",
       "      <td>True</td>\n",
       "    </tr>\n",
       "    <tr>\n",
       "      <th>...</th>\n",
       "      <td>...</td>\n",
       "      <td>...</td>\n",
       "      <td>...</td>\n",
       "      <td>...</td>\n",
       "      <td>...</td>\n",
       "      <td>...</td>\n",
       "      <td>...</td>\n",
       "      <td>...</td>\n",
       "      <td>...</td>\n",
       "      <td>...</td>\n",
       "      <td>...</td>\n",
       "      <td>...</td>\n",
       "      <td>...</td>\n",
       "      <td>...</td>\n",
       "      <td>...</td>\n",
       "      <td>...</td>\n",
       "      <td>...</td>\n",
       "      <td>...</td>\n",
       "      <td>...</td>\n",
       "      <td>...</td>\n",
       "      <td>...</td>\n",
       "    </tr>\n",
       "    <tr>\n",
       "      <th>405619</th>\n",
       "      <td>False</td>\n",
       "      <td>False</td>\n",
       "      <td>False</td>\n",
       "      <td>False</td>\n",
       "      <td>False</td>\n",
       "      <td>False</td>\n",
       "      <td>False</td>\n",
       "      <td>False</td>\n",
       "      <td>False</td>\n",
       "      <td>False</td>\n",
       "      <td>...</td>\n",
       "      <td>False</td>\n",
       "      <td>True</td>\n",
       "      <td>False</td>\n",
       "      <td>False</td>\n",
       "      <td>False</td>\n",
       "      <td>False</td>\n",
       "      <td>False</td>\n",
       "      <td>False</td>\n",
       "      <td>True</td>\n",
       "      <td>True</td>\n",
       "    </tr>\n",
       "    <tr>\n",
       "      <th>405620</th>\n",
       "      <td>False</td>\n",
       "      <td>False</td>\n",
       "      <td>False</td>\n",
       "      <td>False</td>\n",
       "      <td>False</td>\n",
       "      <td>False</td>\n",
       "      <td>False</td>\n",
       "      <td>False</td>\n",
       "      <td>False</td>\n",
       "      <td>False</td>\n",
       "      <td>...</td>\n",
       "      <td>False</td>\n",
       "      <td>False</td>\n",
       "      <td>False</td>\n",
       "      <td>False</td>\n",
       "      <td>False</td>\n",
       "      <td>False</td>\n",
       "      <td>False</td>\n",
       "      <td>False</td>\n",
       "      <td>True</td>\n",
       "      <td>True</td>\n",
       "    </tr>\n",
       "    <tr>\n",
       "      <th>405621</th>\n",
       "      <td>False</td>\n",
       "      <td>False</td>\n",
       "      <td>False</td>\n",
       "      <td>False</td>\n",
       "      <td>False</td>\n",
       "      <td>False</td>\n",
       "      <td>False</td>\n",
       "      <td>False</td>\n",
       "      <td>False</td>\n",
       "      <td>False</td>\n",
       "      <td>...</td>\n",
       "      <td>False</td>\n",
       "      <td>False</td>\n",
       "      <td>False</td>\n",
       "      <td>False</td>\n",
       "      <td>False</td>\n",
       "      <td>False</td>\n",
       "      <td>False</td>\n",
       "      <td>False</td>\n",
       "      <td>True</td>\n",
       "      <td>True</td>\n",
       "    </tr>\n",
       "    <tr>\n",
       "      <th>405622</th>\n",
       "      <td>False</td>\n",
       "      <td>False</td>\n",
       "      <td>False</td>\n",
       "      <td>False</td>\n",
       "      <td>False</td>\n",
       "      <td>False</td>\n",
       "      <td>False</td>\n",
       "      <td>False</td>\n",
       "      <td>False</td>\n",
       "      <td>False</td>\n",
       "      <td>...</td>\n",
       "      <td>False</td>\n",
       "      <td>True</td>\n",
       "      <td>False</td>\n",
       "      <td>False</td>\n",
       "      <td>False</td>\n",
       "      <td>False</td>\n",
       "      <td>False</td>\n",
       "      <td>False</td>\n",
       "      <td>True</td>\n",
       "      <td>True</td>\n",
       "    </tr>\n",
       "    <tr>\n",
       "      <th>405623</th>\n",
       "      <td>False</td>\n",
       "      <td>False</td>\n",
       "      <td>False</td>\n",
       "      <td>False</td>\n",
       "      <td>False</td>\n",
       "      <td>False</td>\n",
       "      <td>False</td>\n",
       "      <td>False</td>\n",
       "      <td>False</td>\n",
       "      <td>False</td>\n",
       "      <td>...</td>\n",
       "      <td>False</td>\n",
       "      <td>False</td>\n",
       "      <td>False</td>\n",
       "      <td>False</td>\n",
       "      <td>False</td>\n",
       "      <td>False</td>\n",
       "      <td>False</td>\n",
       "      <td>False</td>\n",
       "      <td>True</td>\n",
       "      <td>True</td>\n",
       "    </tr>\n",
       "  </tbody>\n",
       "</table>\n",
       "<p>405624 rows × 26 columns</p>\n",
       "</div>"
      ],
      "text/plain": [
       "        loyalty_number   year  month  flights_booked  flights_with_companions  \\\n",
       "0                False  False  False           False                    False   \n",
       "1                False  False  False           False                    False   \n",
       "2                False  False  False           False                    False   \n",
       "3                False  False  False           False                    False   \n",
       "4                False  False  False           False                    False   \n",
       "...                ...    ...    ...             ...                      ...   \n",
       "405619           False  False  False           False                    False   \n",
       "405620           False  False  False           False                    False   \n",
       "405621           False  False  False           False                    False   \n",
       "405622           False  False  False           False                    False   \n",
       "405623           False  False  False           False                    False   \n",
       "\n",
       "        total_flights  distance  points_accumulated  points_redeemed  \\\n",
       "0               False     False               False            False   \n",
       "1               False     False               False            False   \n",
       "2               False     False               False            False   \n",
       "3               False     False               False            False   \n",
       "4               False     False               False            False   \n",
       "...               ...       ...                 ...              ...   \n",
       "405619          False     False               False            False   \n",
       "405620          False     False               False            False   \n",
       "405621          False     False               False            False   \n",
       "405622          False     False               False            False   \n",
       "405623          False     False               False            False   \n",
       "\n",
       "        dollar_cost_points_redeemed  ...  education  salary  marital_status  \\\n",
       "0                             False  ...      False   False           False   \n",
       "1                             False  ...      False    True           False   \n",
       "2                             False  ...      False    True           False   \n",
       "3                             False  ...      False   False           False   \n",
       "4                             False  ...      False   False           False   \n",
       "...                             ...  ...        ...     ...             ...   \n",
       "405619                        False  ...      False    True           False   \n",
       "405620                        False  ...      False   False           False   \n",
       "405621                        False  ...      False   False           False   \n",
       "405622                        False  ...      False    True           False   \n",
       "405623                        False  ...      False   False           False   \n",
       "\n",
       "        loyalty_card    clv  enrollment_type  enrollment_year  \\\n",
       "0              False  False            False            False   \n",
       "1              False  False            False            False   \n",
       "2              False  False            False            False   \n",
       "3              False  False            False            False   \n",
       "4              False  False            False            False   \n",
       "...              ...    ...              ...              ...   \n",
       "405619         False  False            False            False   \n",
       "405620         False  False            False            False   \n",
       "405621         False  False            False            False   \n",
       "405622         False  False            False            False   \n",
       "405623         False  False            False            False   \n",
       "\n",
       "        enrollment_month  cancellation_year  cancellation_month  \n",
       "0                  False               True                True  \n",
       "1                  False               True                True  \n",
       "2                  False               True                True  \n",
       "3                  False               True                True  \n",
       "4                  False               True                True  \n",
       "...                  ...                ...                 ...  \n",
       "405619             False               True                True  \n",
       "405620             False               True                True  \n",
       "405621             False               True                True  \n",
       "405622             False               True                True  \n",
       "405623             False               True                True  \n",
       "\n",
       "[405624 rows x 26 columns]"
      ]
     },
     "execution_count": 20,
     "metadata": {},
     "output_type": "execute_result"
    }
   ],
   "source": [
    "df_atividade.isna()"
   ]
  },
  {
   "cell_type": "markdown",
   "metadata": {},
   "source": [
    "3.0 Próxima aula: machine learn\n",
    "\n"
   ]
  },
  {
   "cell_type": "markdown",
   "metadata": {},
   "source": [
    " # preparacao dos Dados\n"
   ]
  },
  {
   "cell_type": "code",
   "execution_count": 15,
   "metadata": {},
   "outputs": [
    {
     "data": {
      "text/plain": [
       "pandas.core.frame.DataFrame"
      ]
     },
     "execution_count": 15,
     "metadata": {},
     "output_type": "execute_result"
    }
   ],
   "source": [
    "type(df_atividade)"
   ]
  },
  {
   "cell_type": "markdown",
   "metadata": {},
   "source": [
    "# o numero de dados que faltam em cada coluna \n"
   ]
  },
  {
   "cell_type": "code",
   "execution_count": 19,
   "metadata": {},
   "outputs": [
    {
     "data": {
      "text/plain": [
       "loyalty_number                      0\n",
       "year                                0\n",
       "month                               0\n",
       "flights_booked                      0\n",
       "flights_with_companions             0\n",
       "total_flights                       0\n",
       "distance                            0\n",
       "points_accumulated                  0\n",
       "points_redeemed                     0\n",
       "dollar_cost_points_redeemed         0\n",
       "loyalty_number                      0\n",
       "country                             0\n",
       "province                            0\n",
       "city                                0\n",
       "postal_code                         0\n",
       "gender                              0\n",
       "education                           0\n",
       "salary                         102672\n",
       "marital_status                      0\n",
       "loyalty_card                        0\n",
       "clv                                 0\n",
       "enrollment_type                     0\n",
       "enrollment_year                     0\n",
       "enrollment_month                    0\n",
       "cancellation_year              355560\n",
       "cancellation_month             355560\n",
       "dtype: int64"
      ]
     },
     "execution_count": 19,
     "metadata": {},
     "output_type": "execute_result"
    }
   ],
   "source": [
    "df_atividade.isna().sum()"
   ]
  },
  {
   "cell_type": "markdown",
   "metadata": {},
   "source": [
    "# so as colunas que contem numeros "
   ]
  },
  {
   "cell_type": "code",
   "execution_count": 38,
   "metadata": {},
   "outputs": [
    {
     "name": "stdout",
     "output_type": "stream",
     "text": [
      "<class 'pandas.core.frame.DataFrame'>\n",
      "RangeIndex: 405624 entries, 0 to 405623\n",
      "Data columns (total 26 columns):\n",
      " #   Column                       Non-Null Count   Dtype  \n",
      "---  ------                       --------------   -----  \n",
      " 0   loyalty_number               405624 non-null  int64  \n",
      " 1   year                         405624 non-null  int64  \n",
      " 2   month                        405624 non-null  int64  \n",
      " 3   flights_booked               405624 non-null  int64  \n",
      " 4   flights_with_companions      405624 non-null  int64  \n",
      " 5   total_flights                405624 non-null  int64  \n",
      " 6   distance                     405624 non-null  int64  \n",
      " 7   points_accumulated           405624 non-null  float64\n",
      " 8   points_redeemed              405624 non-null  int64  \n",
      " 9   dollar_cost_points_redeemed  405624 non-null  int64  \n",
      " 10  loyalty_number               405624 non-null  int64  \n",
      " 11  country                      405624 non-null  object \n",
      " 12  province                     405624 non-null  object \n",
      " 13  city                         405624 non-null  object \n",
      " 14  postal_code                  405624 non-null  object \n",
      " 15  gender                       405624 non-null  object \n",
      " 16  education                    405624 non-null  object \n",
      " 17  salary                       302952 non-null  float64\n",
      " 18  marital_status               405624 non-null  object \n",
      " 19  loyalty_card                 405624 non-null  object \n",
      " 20  clv                          405624 non-null  float64\n",
      " 21  enrollment_type              405624 non-null  object \n",
      " 22  enrollment_year              405624 non-null  int64  \n",
      " 23  enrollment_month             405624 non-null  int64  \n",
      " 24  cancellation_year            50064 non-null   float64\n",
      " 25  cancellation_month           50064 non-null   float64\n",
      "dtypes: float64(5), int64(12), object(9)\n",
      "memory usage: 80.5+ MB\n"
     ]
    }
   ],
   "source": [
    "df_atividade.info()"
   ]
  },
  {
   "cell_type": "code",
   "execution_count": 59,
   "metadata": {},
   "outputs": [],
   "source": [
    "colunas = [\"year\", \"month\", \"flights_booked\", \"total_flights\", \"flights_with_companions\", \"distance\", \"points_accumulated\", \"points_redeemed\", \"dollar_cost_points_redeemed\", \"salary\", \"loyalty_card\"]\n",
    "df_colunas_numericas = df_atividade.loc[:, colunas]\n"
   ]
  },
  {
   "cell_type": "markdown",
   "metadata": {},
   "source": [
    "#  remover linhas que contem dados que estejam faltando"
   ]
  },
  {
   "cell_type": "code",
   "execution_count": 68,
   "metadata": {},
   "outputs": [],
   "source": [
    "df_dados_completos = df_colunas_numericas.dropna()"
   ]
  },
  {
   "cell_type": "code",
   "execution_count": 70,
   "metadata": {},
   "outputs": [
    {
     "data": {
      "text/plain": [
       "<bound method DataFrame.sum of          year  month  flights_booked  total_flights  flights_with_companions  \\\n",
       "0       False  False           False          False                    False   \n",
       "3       False  False           False          False                    False   \n",
       "4       False  False           False          False                    False   \n",
       "5       False  False           False          False                    False   \n",
       "6       False  False           False          False                    False   \n",
       "...       ...    ...             ...            ...                      ...   \n",
       "405617  False  False           False          False                    False   \n",
       "405618  False  False           False          False                    False   \n",
       "405620  False  False           False          False                    False   \n",
       "405621  False  False           False          False                    False   \n",
       "405623  False  False           False          False                    False   \n",
       "\n",
       "        distance  points_accumulated  points_redeemed  \\\n",
       "0          False               False            False   \n",
       "3          False               False            False   \n",
       "4          False               False            False   \n",
       "5          False               False            False   \n",
       "6          False               False            False   \n",
       "...          ...                 ...              ...   \n",
       "405617     False               False            False   \n",
       "405618     False               False            False   \n",
       "405620     False               False            False   \n",
       "405621     False               False            False   \n",
       "405623     False               False            False   \n",
       "\n",
       "        dollar_cost_points_redeemed  salary  loyalty_card  \n",
       "0                             False   False         False  \n",
       "3                             False   False         False  \n",
       "4                             False   False         False  \n",
       "5                             False   False         False  \n",
       "6                             False   False         False  \n",
       "...                             ...     ...           ...  \n",
       "405617                        False   False         False  \n",
       "405618                        False   False         False  \n",
       "405620                        False   False         False  \n",
       "405621                        False   False         False  \n",
       "405623                        False   False         False  \n",
       "\n",
       "[302952 rows x 11 columns]>"
      ]
     },
     "execution_count": 70,
     "metadata": {},
     "output_type": "execute_result"
    }
   ],
   "source": [
    "df_dados_completos.isna().sum"
   ]
  },
  {
   "cell_type": "code",
   "execution_count": 71,
   "metadata": {},
   "outputs": [
    {
     "data": {
      "text/plain": [
       "302952"
      ]
     },
     "execution_count": 71,
     "metadata": {},
     "output_type": "execute_result"
    }
   ],
   "source": [
    "df_dados_completos.shape [0]"
   ]
  },
  {
   "cell_type": "markdown",
   "metadata": {},
   "source": [
    " machine Learning"
   ]
  },
  {
   "cell_type": "code",
   "execution_count": 110,
   "metadata": {},
   "outputs": [
    {
     "data": {
      "image/png": "[encoded data removed]",
      "text/plain": [
       "<Figure size 1000x800 with 1 Axes>"
      ]
     },
     "metadata": {},
     "output_type": "display_data"
    }
   ],
   "source": [
    "from sklearn import tree as tr\n",
    "\n",
    "\n",
    "# Supondo que df_dados_completos já foi definido anteriormente\n",
    "\n",
    "X = df_dados_completos.drop(columns=\"loyalty_card\")\n",
    "y = df_dados_completos[\"loyalty_card\"]\n",
    "\n",
    "# Comando: Defina o algoritmo Decision Tree\n",
    "modelo = tr.DecisionTreeClassifier(max_depth=2)\n",
    "\n",
    "# Comando: Treine o algoritmo Decision Tree\n",
    "modelo.fit(X, y)\n",
    "\n",
    "\n",
    "\n",
    "import matplotlib.pyplot as plt\n",
    "\n",
    "# Exibir a árvore de decisão treinada\n",
    "plt.figure(figsize=(10, 8))  # Define o tamanho da figura\n",
    "tr.plot_tree(modelo, filled=True)\n",
    "plt.show()"
   ]
  },
  {
   "cell_type": "code",
   "execution_count": 5,
   "metadata": {},
   "outputs": [],
   "source": [
    "# Supondo que X_novo já foi definido anteriormente\n",
    "\n",
    "# Amostra aleatória do conjunto de dados X_novo\n"
   ]
  },
  {
   "cell_type": "code",
   "execution_count": null,
   "metadata": {},
   "outputs": [],
   "source": []
  },
  {
   "cell_type": "code",
   "execution_count": 120,
   "metadata": {},
   "outputs": [
    {
     "data": {
      "image/png": "[encoded data removed]",
      "text/plain": [
       "<Figure size 1200x800 with 1 Axes>"
      ]
     },
     "metadata": {},
     "output_type": "display_data"
    }
   ],
   "source": [
    "import matplotlib.pyplot as plt\n",
    "\n",
    "# Supondo que X_novo e pred já foram definidos anteriormente\n",
    "\n",
    "# Nomes das classes\n",
    "classes = ['Aurora', 'Nova', 'Star']\n",
    "\n",
    "# Número de amostras para exibir no painel\n",
    "num_amostras = len(X_novo)\n",
    "\n",
    "# Definir o tamanho do painel de gráficos\n",
    "plt.figure(figsize=(12, 8))\n",
    "\n",
    "# Loop sobre cada amostra em X_novo\n",
    "for i in range(num_amostras):\n",
    "    # Probabilidades previstas para a amostra atual\n",
    "    probabilidades = pred[i]\n",
    "\n",
    "    # Criar um subplot para cada amostra\n",
    "    plt.subplot(num_amostras, 1, i+1)\n",
    "    plt.bar(classes, probabilidades, color=['blue', 'green', 'orange'])\n",
    "    plt.title(f'Amostra {i+1}: Probabilidades Previstas')\n",
    "    plt.xlabel('Classes')\n",
    "    plt.ylabel('Probabilidades')\n",
    "\n",
    "# Ajustar layout e mostrar o painel\n",
    "plt.tight_layout()\n",
    "plt.show()\n"
   ]
  }
 ],
 "metadata": {
  "kernelspec": {
   "display_name": "Python 3",
   "language": "python",
   "name": "python3"
  },
  "language_info": {
   "codemirror_mode": {
    "name": "ipython",
    "version": 3
   },
   "file_extension": ".py",
   "mimetype": "text/x-python",
   "name": "python",
   "nbconvert_exporter": "python",
   "pygments_lexer": "ipython3",
   "version": "3.12.2"
  }
 },
 "nbformat": 4,
 "nbformat_minor": 2
}
